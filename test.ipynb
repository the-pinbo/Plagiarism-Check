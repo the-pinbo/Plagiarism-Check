{
 "cells": [
  {
   "cell_type": "code",
   "execution_count": 6,
   "metadata": {},
   "outputs": [],
   "source": [
    "from pathlib import Path\n",
    "from bs4 import BeautifulSoup\n",
    "import json\n",
    "from sklearn.feature_extraction.text import TfidfVectorizer\n",
    "from sklearn.metrics.pairwise import cosine_similarity"
   ]
  },
  {
   "cell_type": "code",
   "execution_count": 4,
   "metadata": {},
   "outputs": [
    {
     "name": "stdout",
     "output_type": "stream",
     "text": [
      "data/2022/9973293.json\n"
     ]
    }
   ],
   "source": [
    "for path in Path('./data/').rglob('*.json'):\n",
    "    print(path)\n",
    "    break"
   ]
  },
  {
   "cell_type": "code",
   "execution_count": 34,
   "metadata": {},
   "outputs": [],
   "source": [
    "\n",
    "\n",
    "\n",
    "def similarity(doc1, doc2):\n",
    "    return cosine_similarity([doc1, doc2])\n"
   ]
  },
  {
   "cell_type": "code",
   "execution_count": 32,
   "metadata": {},
   "outputs": [],
   "source": [
    "class Paper:\n",
    "    \n",
    "    def __init__(self, path):\n",
    "        self.path = path\n",
    "        self.json = json.load(open(path, encoding='utf-8'))\n",
    "        self.soup = BeautifulSoup(self.json['xml'], 'lxml')\n",
    "        self.title = self.json['articleTitle']\n",
    "        self.number = self.json['articleNumber']\n",
    "        self.text = self.soup.text\n",
    "        self.vector = Paper.vectorize([self.text])\n",
    "\n",
    "    def vectorize(Text):\n",
    "        return TfidfVectorizer().fit_transform(Text).toarray()"
   ]
  },
  {
   "cell_type": "code",
   "execution_count": 35,
   "metadata": {},
   "outputs": [
    {
     "ename": "NameError",
     "evalue": "name 'TfidfVectorizer' is not defined",
     "output_type": "error",
     "traceback": [
      "\u001b[0;31m---------------------------------------------------------------------------\u001b[0m",
      "\u001b[0;31mNameError\u001b[0m                                 Traceback (most recent call last)",
      "Cell \u001b[0;32mIn[35], line 1\u001b[0m\n\u001b[0;32m----> 1\u001b[0m papers \u001b[39m=\u001b[39m [Paper(path) \u001b[39mfor\u001b[39;00m path \u001b[39min\u001b[39;00m Path(\u001b[39m'\u001b[39m\u001b[39m./data/\u001b[39m\u001b[39m'\u001b[39m)\u001b[39m.\u001b[39mrglob(\u001b[39m'\u001b[39m\u001b[39m*.json\u001b[39m\u001b[39m'\u001b[39m)]\n\u001b[1;32m      2\u001b[0m papers[\u001b[39m0\u001b[39m]\u001b[39m.\u001b[39mtitle\n",
      "Cell \u001b[0;32mIn[35], line 1\u001b[0m, in \u001b[0;36m<listcomp>\u001b[0;34m(.0)\u001b[0m\n\u001b[0;32m----> 1\u001b[0m papers \u001b[39m=\u001b[39m [Paper(path) \u001b[39mfor\u001b[39;00m path \u001b[39min\u001b[39;00m Path(\u001b[39m'\u001b[39m\u001b[39m./data/\u001b[39m\u001b[39m'\u001b[39m)\u001b[39m.\u001b[39mrglob(\u001b[39m'\u001b[39m\u001b[39m*.json\u001b[39m\u001b[39m'\u001b[39m)]\n\u001b[1;32m      2\u001b[0m papers[\u001b[39m0\u001b[39m]\u001b[39m.\u001b[39mtitle\n",
      "Cell \u001b[0;32mIn[32], line 9\u001b[0m, in \u001b[0;36mPaper.__init__\u001b[0;34m(self, path)\u001b[0m\n\u001b[1;32m      7\u001b[0m \u001b[39mself\u001b[39m\u001b[39m.\u001b[39mnumber \u001b[39m=\u001b[39m \u001b[39mself\u001b[39m\u001b[39m.\u001b[39mjson[\u001b[39m'\u001b[39m\u001b[39marticleNumber\u001b[39m\u001b[39m'\u001b[39m]\n\u001b[1;32m      8\u001b[0m \u001b[39mself\u001b[39m\u001b[39m.\u001b[39mtext \u001b[39m=\u001b[39m \u001b[39mself\u001b[39m\u001b[39m.\u001b[39msoup\u001b[39m.\u001b[39mtext\n\u001b[0;32m----> 9\u001b[0m \u001b[39mself\u001b[39m\u001b[39m.\u001b[39mvector \u001b[39m=\u001b[39m vectorize([\u001b[39mself\u001b[39;49m\u001b[39m.\u001b[39;49mtext])\n",
      "Cell \u001b[0;32mIn[34], line 2\u001b[0m, in \u001b[0;36mvectorize\u001b[0;34m(Text)\u001b[0m\n\u001b[1;32m      1\u001b[0m \u001b[39mdef\u001b[39;00m \u001b[39mvectorize\u001b[39m(Text):\n\u001b[0;32m----> 2\u001b[0m     \u001b[39mreturn\u001b[39;00m TfidfVectorizer()\u001b[39m.\u001b[39mfit_transform(Text)\u001b[39m.\u001b[39mtoarray()\n",
      "\u001b[0;31mNameError\u001b[0m: name 'TfidfVectorizer' is not defined"
     ]
    }
   ],
   "source": [
    "papers = [Paper(path) for path in Path('./data/').rglob('*.json')]\n",
    "papers[0].title"
   ]
  },
  {
   "cell_type": "code",
   "execution_count": null,
   "metadata": {},
   "outputs": [],
   "source": []
  },
  {
   "cell_type": "code",
   "execution_count": null,
   "metadata": {},
   "outputs": [],
   "source": [
    "vectors = vectorize(student_notes)"
   ]
  }
 ],
 "metadata": {
  "kernelspec": {
   "display_name": "Python 3.10.8 64-bit",
   "language": "python",
   "name": "python3"
  },
  "language_info": {
   "codemirror_mode": {
    "name": "ipython",
    "version": 3
   },
   "file_extension": ".py",
   "mimetype": "text/x-python",
   "name": "python",
   "nbconvert_exporter": "python",
   "pygments_lexer": "ipython3",
   "version": "3.10.8"
  },
  "orig_nbformat": 4,
  "vscode": {
   "interpreter": {
    "hash": "e7370f93d1d0cde622a1f8e1c04877d8463912d04d973331ad4851f04de6915a"
   }
  }
 },
 "nbformat": 4,
 "nbformat_minor": 2
}
