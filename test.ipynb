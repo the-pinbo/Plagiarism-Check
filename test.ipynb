{
 "cells": [
  {
   "cell_type": "code",
   "execution_count": 2,
   "metadata": {},
   "outputs": [],
   "source": [
    "import requests\n",
    "import json"
   ]
  },
  {
   "cell_type": "code",
   "execution_count": 3,
   "metadata": {},
   "outputs": [],
   "source": [
    "_page_number = 1"
   ]
  },
  {
   "cell_type": "code",
   "execution_count": null,
   "metadata": {},
   "outputs": [],
   "source": [
    "url = \"https://ieeexplore.ieee.org/rest/search/pub/6287639/issue/9668973/toc\"\n",
    "\n",
    "payload = json.dumps({\n",
    "  \"isnumber\": \"9668973\",\n",
    "  \"punumber\": \"6287639\",\n",
    "  \"sortType\": \"vol-only-newest\",\n",
    "  \"rowsPerPage\": \"10\",\n",
    "  \"pageNumber\": _page_number\n",
    "})\n",
    "headers = {\n",
    "  'Accept': 'application/json, text/plain, */*',\n",
    "  'Accept-Language': 'en-US,en;q=0.9',\n",
    "  'Connection': 'keep-alive',\n",
    "  'Content-Type': 'application/json',\n",
    "  'Cookie': 'datadome=L2-8W0N~960fKVel8kqJGPt~5hSSzxsWyTVh1P8vYTSWmPfU_oKrxvbnOrN6kxosErk6-qcpJ9YIHtdAmEgqGKMTYA3h~4DIUJUQ.vob0YLbGshKH8oVXRSXETu9OHt; fp=48b0535dfceb7cf7e940c93a38c7c35a; s_ecid=MCMID%7C07628172801079746764422877597706489420; _ga=GA1.1.2118521513.1670529056; _ga_YTTLX34YFF=GS1.1.1670529055.1.0.1670529057.0.0.0; _ga_SVYSL9TN3N=GS1.1.1670529056.1.0.1670529057.0.0.0; cookieconsent_status=dismiss; _gcl_au=1.1.1305355348.1670637844; nmstat=e283c1d5-1d60-6217-57d0-ec160437d779; _ga_DRSMCND71P=GS1.1.1670637844.1.1.1670640642.59.0.0; _ga_RN78LDXHRB=GS1.1.1670637844.1.1.1670640642.59.0.0; _ga_W7T9YQJQXP=GS1.1.1670637844.1.1.1670640642.0.0.0; _ga_H0YHKP362D=GS1.1.1670637844.1.1.1670640642.59.0.0; _ga_5Q6NV07QD5=GS1.1.1670810470.1.1.1670810983.0.0.0; JSESSIONID=FF4TD5CgaLnCleACV7NtZreKBAGARWo932wk7tZM0cDAbFQSsLBr!-485776902; WLSESSION=237134476.20480.0000; AMCVS_8E929CC25A1FB2B30A495C97%40AdobeOrg=1; AMCV_8E929CC25A1FB2B30A495C97%40AdobeOrg=1687686476%7CMCIDTS%7C19265%7CMCMID%7C07628172801079746764422877597706489420%7CMCAID%7CNONE%7CMCOPTOUT-1671049467s%7CNONE%7CvVersion%7C3.0.0; s_cc=true; ipCheck=49.205.150.136; TS01b03060=012f3506233321702ed4f319760d87ef92209f84fb5a3e33f9b5307831f3f628870482b7f1d1460b4f5d667a627d9b4d418bcfb0de; s_sq=%5B%5BB%5D%5D; TSaeeec342027=080f8ceb8aab2000ab6bd554cd18a3c2741fcb546a652c8c4e28f0f1f43c69c8b9b42d387cc6224a086524f78a113000db00954c81dbfcd7bc6c3117069fdb960640472a709260bc75e6d3621a87aa5024a37e9aaf5de404116bc10d3a2b7488; utag_main=v_id:01838ac327d7001de75f3941296c05081002c07900978$_n:7$_e:24$_s:0$_t:1671045434736$vapi_domain:ieee.org$ses_id:1671042266876%3Bexp-session$_n:13%3Bexp-session; WLSESSION=237134476.20480.0000',\n",
    "  'DNT': '1',\n",
    "  'Origin': 'https://ieeexplore.ieee.org',\n",
    "  'Referer': 'https://ieeexplore.ieee.org/xpl/tocresult.jsp?isnumber=9668973&punumber=6287639&sortType=vol-only-newest&rowsPerPage=100&pageNumber=93',\n",
    "  'Sec-Fetch-Dest': 'empty',\n",
    "  'Sec-Fetch-Mode': 'cors',\n",
    "  'Sec-Fetch-Site': 'same-origin',\n",
    "  'User-Agent': 'Mozilla/5.0 (Windows NT 10.0; Win64; x64) AppleWebKit/537.36 (KHTML, like Gecko) Chrome/108.0.0.0 Safari/537.36 Edg/108.0.1462.46',\n",
    "  'sec-ch-ua': '\"Not?A_Brand\";v=\"8\", \"Chromium\";v=\"108\", \"Microsoft Edge\";v=\"108\"',\n",
    "  'sec-ch-ua-mobile': '?0',\n",
    "  'sec-ch-ua-platform': '\"Windows\"'\n",
    "}\n",
    "\n",
    "response = requests.request(\"POST\", url, headers=headers, data=payload)"
   ]
  },
  {
   "cell_type": "code",
   "execution_count": 5,
   "metadata": {},
   "outputs": [],
   "source": [
    "data = json.loads(response.text)"
   ]
  },
  {
   "cell_type": "code",
   "execution_count": 7,
   "metadata": {},
   "outputs": [
    {
     "data": {
      "text/plain": [
       "10"
      ]
     },
     "execution_count": 7,
     "metadata": {},
     "output_type": "execute_result"
    }
   ],
   "source": [
    "len(data['records'])"
   ]
  },
  {
   "cell_type": "code",
   "execution_count": 8,
   "metadata": {},
   "outputs": [
    {
     "data": {
      "text/plain": [
       "'6287639'"
      ]
     },
     "execution_count": 8,
     "metadata": {},
     "output_type": "execute_result"
    }
   ],
   "source": [
    "data['records'][0]['publicationNumber']"
   ]
  },
  {
   "cell_type": "code",
   "execution_count": 9,
   "metadata": {},
   "outputs": [],
   "source": [
    "url = \"https://ieeexplore.ieee.org/rest/document/9183931/toc\"\n",
    "\n",
    "payload = \"\"\n",
    "headers = {\n",
    "  'Accept': 'application/json, text/plain, */*',\n",
    "  'Accept-Language': 'en-US,en;q=0.9',\n",
    "  'Connection': 'keep-alive',\n",
    "  'Cookie': 'datadome=L2-8W0N~960fKVel8kqJGPt~5hSSzxsWyTVh1P8vYTSWmPfU_oKrxvbnOrN6kxosErk6-qcpJ9YIHtdAmEgqGKMTYA3h~4DIUJUQ.vob0YLbGshKH8oVXRSXETu9OHt; fp=48b0535dfceb7cf7e940c93a38c7c35a; s_ecid=MCMID%7C07628172801079746764422877597706489420; _ga=GA1.1.2118521513.1670529056; _ga_YTTLX34YFF=GS1.1.1670529055.1.0.1670529057.0.0.0; _ga_SVYSL9TN3N=GS1.1.1670529056.1.0.1670529057.0.0.0; cookieconsent_status=dismiss; _gcl_au=1.1.1305355348.1670637844; nmstat=e283c1d5-1d60-6217-57d0-ec160437d779; _ga_DRSMCND71P=GS1.1.1670637844.1.1.1670640642.59.0.0; _ga_RN78LDXHRB=GS1.1.1670637844.1.1.1670640642.59.0.0; _ga_W7T9YQJQXP=GS1.1.1670637844.1.1.1670640642.0.0.0; _ga_H0YHKP362D=GS1.1.1670637844.1.1.1670640642.59.0.0; _ga_5Q6NV07QD5=GS1.1.1670810470.1.1.1670810983.0.0.0; WLSESSION=237134476.20480.0000; AMCVS_8E929CC25A1FB2B30A495C97%40AdobeOrg=1; AMCV_8E929CC25A1FB2B30A495C97%40AdobeOrg=1687686476%7CMCIDTS%7C19265%7CMCMID%7C07628172801079746764422877597706489420%7CMCAID%7CNONE%7CMCOPTOUT-1671049467s%7CNONE%7CvVersion%7C3.0.0; s_cc=true; utag_main=v_id:01838ac327d7001de75f3941296c05081002c07900978$_n:8$_e:2$_s:0$_t:1671081355864$vapi_domain:ieee.org$ses_id:1671079545716%3Bexp-session$_n:1%3Bexp-session; s_sq=ieeexplore.prod%3D%2526c.%2526a.%2526activitymap.%2526page%253DXplore%252520Journals%252520%252526%252520Magazines%252520Toc%2526link%253DHTML%2526region%253DpublicationIssueMainContent%252520global-margin-px%2526pageIDType%253D1%2526.activitymap%2526.a%2526.c%2526pid%253DXplore%252520Journals%252520%252526%252520Magazines%252520Toc%2526pidt%253D1%2526oid%253Dhttps%25253A%25252F%25252Fieeexplore.ieee.org%25252Fdocument%25252F9183931%25252F%2526ot%253DA; JSESSIONID=5ewUG6pXC8xhiGntuKh8VZPU3cpxP8b37wM6KdCQ2fdKuVMWcV8x!-485776902; ipCheck=202.131.142.179; TS01b03060=012f350623d45a680d96828ffbea0e2bfe4214490c89b8d9f81df7b40d36e3199de0790b2ecfa21e2673e23b98bc39a71db02c873d; TSaeeec342027=080f8ceb8aab2000262878cf77f09d72e71e339fbc24fc53c8694287cc6024603fac384210b65c0608cc9f6f53113000600c59e4a66190b1fdf772e942654702e1bdb45aa4c7d8b13b0efab3dc59864bd022c78fff9e26635654bdad9b8ca207; JSESSIONID=Z-UUH7jWMS8lIkJaKVC9umzu7T6zVG4ies0Sf3tmlh6N-QaPlfny!-485776902; TS01b03060=012f35062399a231100f5d8ad73d3f2d71aaf9ab2c3f899e5297613b92c0ba5876d625919bbd98b86e60cab769a3b5227d3aa432e0; TSaeeec342027=080f8ceb8aab2000e01cbff078ef4f65bb6e808252da9f703fb8d22efba766bdb23dd6e3655d656d08d512d5a8113000f3a42efc24a00e92f2b82857149613c25e175046ab9216d2b006b5ff4ea7c0d1dbb55f183d8ab6c985af9254bb31aa4e; WLSESSION=237134476.20480.0000; ipCheck=54.86.50.139',\n",
    "  'DNT': '1',\n",
    "  'Referer': 'https://ieeexplore.ieee.org/document/9183931',\n",
    "  'Sec-Fetch-Dest': 'empty',\n",
    "  'Sec-Fetch-Mode': 'cors',\n",
    "  'Sec-Fetch-Site': 'same-origin',\n",
    "  'User-Agent': 'Mozilla/5.0 (Windows NT 10.0; Win64; x64) AppleWebKit/537.36 (KHTML, like Gecko) Chrome/108.0.0.0 Safari/537.36 Edg/108.0.1462.46',\n",
    "  'sec-ch-ua': '\"Not?A_Brand\";v=\"8\", \"Chromium\";v=\"108\", \"Microsoft Edge\";v=\"108\"',\n",
    "  'sec-ch-ua-mobile': '?0',\n",
    "  'sec-ch-ua-platform': '\"Windows\"'\n",
    "}\n"
   ]
  },
  {
   "cell_type": "code",
   "execution_count": 10,
   "metadata": {},
   "outputs": [],
   "source": [
    "response = requests.request(\"GET\", url, headers=headers, data=payload)\n",
    "data = response.json()"
   ]
  },
  {
   "cell_type": "code",
   "execution_count": null,
   "metadata": {},
   "outputs": [],
   "source": [
    "with open('paper.json', 'w') as f:\n",
    "    json.dump(data, f)"
   ]
  },
  {
   "cell_type": "code",
   "execution_count": 1,
   "metadata": {},
   "outputs": [],
   "source": [
    "from selenium import webdriver\n"
   ]
  },
  {
   "cell_type": "code",
   "execution_count": 2,
   "metadata": {},
   "outputs": [
    {
     "name": "stderr",
     "output_type": "stream",
     "text": [
      "C:\\Users\\inba2\\AppData\\Local\\Temp\\ipykernel_9304\\3405432934.py:3: DeprecationWarning: executable_path has been deprecated, please pass in a Service object\n",
      "  driver = webdriver.Chrome(path)\n"
     ]
    }
   ],
   "source": [
    "url = \"https://ieeexplore.ieee.org/xpl/tocresult.jsp?isnumber=9668973&punumber=6287639\"\n",
    "path = r\"C:\\Users\\inba2\\Documents\\web_scrape\\env\\chromedriver.exe\"\n",
    "driver = webdriver.Chrome(path)\n",
    "driver.get(url)"
   ]
  },
  {
   "cell_type": "code",
   "execution_count": 3,
   "metadata": {},
   "outputs": [],
   "source": [
    "driver.quit()"
   ]
  }
 ],
 "metadata": {
  "kernelspec": {
   "display_name": "Python 3.10.8 64-bit",
   "language": "python",
   "name": "python3"
  },
  "language_info": {
   "codemirror_mode": {
    "name": "ipython",
    "version": 3
   },
   "file_extension": ".py",
   "mimetype": "text/x-python",
   "name": "python",
   "nbconvert_exporter": "python",
   "pygments_lexer": "ipython3",
   "version": "3.10.8"
  },
  "orig_nbformat": 4,
  "vscode": {
   "interpreter": {
    "hash": "e7370f93d1d0cde622a1f8e1c04877d8463912d04d973331ad4851f04de6915a"
   }
  }
 },
 "nbformat": 4,
 "nbformat_minor": 2
}
