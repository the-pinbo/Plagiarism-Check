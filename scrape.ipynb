{
 "cells": [
  {
   "cell_type": "code",
   "execution_count": 1,
   "metadata": {},
   "outputs": [],
   "source": [
    "import requests\n",
    "import json\n",
    "\n",
    "url = \"https://ieeexplore.ieee.org/rest/search/pub/6287639/issue/9668973/toc\"\n",
    "_page_number = \"1\"\n",
    "_page_size = \"50\"\n",
    "payload = json.dumps({\n",
    "    \"isnumber\": \"9668973\",\n",
    "    \"punumber\": \"6287639\",\n",
    "    \"sortType\": \"vol-only-newest\",\n",
    "    \"rowsPerPage\": _page_size,\n",
    "    \"pageNumber\": _page_number\n",
    "})\n",
    "headers = {\n",
    "    'Accept': 'application/json, text/plain, */*',\n",
    "    'Accept-Language': 'en-US,en;q=0.9',\n",
    "    'Connection': 'keep-alive',\n",
    "    'Content-Type': 'application/json',\n",
    "    'Cookie': 'datadome=L2-8W0N~960fKVel8kqJGPt~5hSSzxsWyTVh1P8vYTSWmPfU_oKrxvbnOrN6kxosErk6-qcpJ9YIHtdAmEgqGKMTYA3h~4DIUJUQ.vob0YLbGshKH8oVXRSXETu9OHt; fp=48b0535dfceb7cf7e940c93a38c7c35a; s_ecid=MCMID%7C07628172801079746764422877597706489420; _ga=GA1.1.2118521513.1670529056; _ga_YTTLX34YFF=GS1.1.1670529055.1.0.1670529057.0.0.0; _ga_SVYSL9TN3N=GS1.1.1670529056.1.0.1670529057.0.0.0; cookieconsent_status=dismiss; _gcl_au=1.1.1305355348.1670637844; nmstat=e283c1d5-1d60-6217-57d0-ec160437d779; _ga_DRSMCND71P=GS1.1.1670637844.1.1.1670640642.59.0.0; _ga_RN78LDXHRB=GS1.1.1670637844.1.1.1670640642.59.0.0; _ga_W7T9YQJQXP=GS1.1.1670637844.1.1.1670640642.0.0.0; _ga_H0YHKP362D=GS1.1.1670637844.1.1.1670640642.59.0.0; _ga_5Q6NV07QD5=GS1.1.1670810470.1.1.1670810983.0.0.0; WLSESSION=237134476.20480.0000; JSESSIONID=LAIUyDomyrvCudmezNqktGH5WV3ssZ5IM_vZeawTak_5V2_vzFVH!380715771; ipCheck=202.131.142.179; AMCVS_8E929CC25A1FB2B30A495C97%40AdobeOrg=1; AMCV_8E929CC25A1FB2B30A495C97%40AdobeOrg=1687686476%7CMCIDTS%7C19265%7CMCMID%7C07628172801079746764422877597706489420%7CMCAID%7CNONE%7CMCOPTOUT-1671078345s%7CNONE%7CvVersion%7C3.0.0; s_cc=true; TS01b03060=012f35062340cfc11ed31cb95c547d435831a846ea49c9f432a42b11286d48e9e4844f1737f1bbf502bf0ff01a90e0f827be3a1c69; s_sq=%5B%5BB%5D%5D; TSaeeec342027=080f8ceb8aab200061382fe594c81e73dddfae719adf9d6ed555eb1a3b1cbbc334e029bab3f5bbcd08faa25db6113000bdcac9f0eadd9956bbfb79e374c36f942deeff47f53123df620ec8b3918d5ef2d8cd06cbfa7cfe28b8f883c2589c6837; utag_main=v_id:01838ac327d7001de75f3941296c05081002c07900978$_n:10$_e:2$_s:0$_t:1671080111889$vapi_domain:ieee.org$ses_id:1671078310862%3Bexp-session$_n:1%3Bexp-session; TS01b03060=012f350623f2a4980a746f9574bbcea6ffe0f8e6d0082aa7e2e2c84ebe563d9590bf3a7fe466cfb478e55c64c46346860c6c7a918d; TSaeeec342027=080f8ceb8aab20002af02b0514b71c83aba2f4438ca7c89952b6a5f52ce9dc7208055e204364a6f0084c6973a91130008cc229d11534b74b851815c4abe5b5527a5988cd7ab6411a676fe15efb79ec626a9b45443af97b0fa961cb4d706045cf; WLSESSION=237134476.20480.0000; ipCheck=54.86.50.139',\n",
    "    'DNT': '1',\n",
    "    'Origin': 'https://ieeexplore.ieee.org',\n",
    "    'Referer': 'https://ieeexplore.ieee.org/xpl/tocresult.jsp?isnumber=9668973&punumber=6287639&sortType=vol-only-newest&rowsPerPage=50&pageNumber=1',\n",
    "    'Sec-Fetch-Dest': 'empty',\n",
    "    'Sec-Fetch-Mode': 'cors',\n",
    "    'Sec-Fetch-Site': 'same-origin',\n",
    "    'User-Agent': 'Mozilla/5.0 (Windows NT 10.0; Win64; x64) AppleWebKit/537.36 (KHTML, like Gecko) Chrome/108.0.0.0 Safari/537.36 Edg/108.0.1462.46',\n",
    "    'sec-ch-ua': '\"Not?A_Brand\";v=\"8\", \"Chromium\";v=\"108\", \"Microsoft Edge\";v=\"108\"',\n",
    "    'sec-ch-ua-mobile': '?0',\n",
    "    'sec-ch-ua-platform': '\"Windows\"'\n",
    "}\n",
    "\n",
    "response = requests.request(\"POST\", url, headers=headers, data=payload)\n",
    "\n",
    "records = response.json()['records']"
   ]
  },
  {
   "cell_type": "code",
   "execution_count": null,
   "metadata": {},
   "outputs": [],
   "source": []
  },
  {
   "cell_type": "code",
   "execution_count": 1,
   "metadata": {},
   "outputs": [],
   "source": [
    "import requests\n",
    "import json\n",
    "\n",
    "url = \"https://ieeexplore.ieee.org/rest/search/pub/6287639/issue/9668973/toc\"\n",
    "_page_number = \"1\"\n",
    "_page_size = \"50\"\n",
    "payload = json.dumps({\n",
    "  \"isnumber\": \"9668973\",\n",
    "  \"punumber\": \"6287639\",\n",
    "  \"sortType\": \"vol-only-newest\",\n",
    "  \"rowsPerPage\": _page_size,\n",
    "  \"pageNumber\": _page_number\n",
    "})\n",
    "headers = {\n",
    "  'Accept': 'application/json, text/plain, */*',\n",
    "  'Accept-Language': 'en-US,en;q=0.9',\n",
    "  'Connection': 'keep-alive',\n",
    "  'Content-Type': 'application/json',\n",
    "  'Cookie': 'datadome=L2-8W0N~960fKVel8kqJGPt~5hSSzxsWyTVh1P8vYTSWmPfU_oKrxvbnOrN6kxosErk6-qcpJ9YIHtdAmEgqGKMTYA3h~4DIUJUQ.vob0YLbGshKH8oVXRSXETu9OHt; fp=48b0535dfceb7cf7e940c93a38c7c35a; s_ecid=MCMID%7C07628172801079746764422877597706489420; _ga=GA1.1.2118521513.1670529056; _ga_YTTLX34YFF=GS1.1.1670529055.1.0.1670529057.0.0.0; _ga_SVYSL9TN3N=GS1.1.1670529056.1.0.1670529057.0.0.0; cookieconsent_status=dismiss; _gcl_au=1.1.1305355348.1670637844; nmstat=e283c1d5-1d60-6217-57d0-ec160437d779; _ga_DRSMCND71P=GS1.1.1670637844.1.1.1670640642.59.0.0; _ga_RN78LDXHRB=GS1.1.1670637844.1.1.1670640642.59.0.0; _ga_W7T9YQJQXP=GS1.1.1670637844.1.1.1670640642.0.0.0; _ga_H0YHKP362D=GS1.1.1670637844.1.1.1670640642.59.0.0; _ga_5Q6NV07QD5=GS1.1.1670810470.1.1.1670810983.0.0.0; WLSESSION=237134476.20480.0000; JSESSIONID=LAIUyDomyrvCudmezNqktGH5WV3ssZ5IM_vZeawTak_5V2_vzFVH!380715771; ipCheck=202.131.142.179; AMCVS_8E929CC25A1FB2B30A495C97%40AdobeOrg=1; AMCV_8E929CC25A1FB2B30A495C97%40AdobeOrg=1687686476%7CMCIDTS%7C19265%7CMCMID%7C07628172801079746764422877597706489420%7CMCAID%7CNONE%7CMCOPTOUT-1671078345s%7CNONE%7CvVersion%7C3.0.0; s_cc=true; TS01b03060=012f35062340cfc11ed31cb95c547d435831a846ea49c9f432a42b11286d48e9e4844f1737f1bbf502bf0ff01a90e0f827be3a1c69; s_sq=%5B%5BB%5D%5D; TSaeeec342027=080f8ceb8aab200061382fe594c81e73dddfae719adf9d6ed555eb1a3b1cbbc334e029bab3f5bbcd08faa25db6113000bdcac9f0eadd9956bbfb79e374c36f942deeff47f53123df620ec8b3918d5ef2d8cd06cbfa7cfe28b8f883c2589c6837; utag_main=v_id:01838ac327d7001de75f3941296c05081002c07900978$_n:10$_e:2$_s:0$_t:1671080111889$vapi_domain:ieee.org$ses_id:1671078310862%3Bexp-session$_n:1%3Bexp-session; TS01b03060=012f350623f2a4980a746f9574bbcea6ffe0f8e6d0082aa7e2e2c84ebe563d9590bf3a7fe466cfb478e55c64c46346860c6c7a918d; TSaeeec342027=080f8ceb8aab20002af02b0514b71c83aba2f4438ca7c89952b6a5f52ce9dc7208055e204364a6f0084c6973a91130008cc229d11534b74b851815c4abe5b5527a5988cd7ab6411a676fe15efb79ec626a9b45443af97b0fa961cb4d706045cf; WLSESSION=237134476.20480.0000; ipCheck=54.86.50.139',\n",
    "  'DNT': '1',\n",
    "  'Origin': 'https://ieeexplore.ieee.org',\n",
    "  'Referer': 'https://ieeexplore.ieee.org/xpl/tocresult.jsp?isnumber=9668973&punumber=6287639&sortType=vol-only-newest&rowsPerPage=50&pageNumber=1',\n",
    "  'Sec-Fetch-Dest': 'empty',\n",
    "  'Sec-Fetch-Mode': 'cors',\n",
    "  'Sec-Fetch-Site': 'same-origin',\n",
    "  'User-Agent': 'Mozilla/5.0 (Windows NT 10.0; Win64; x64) AppleWebKit/537.36 (KHTML, like Gecko) Chrome/108.0.0.0 Safari/537.36 Edg/108.0.1462.46',\n",
    "  'sec-ch-ua': '\"Not?A_Brand\";v=\"8\", \"Chromium\";v=\"108\", \"Microsoft Edge\";v=\"108\"',\n",
    "  'sec-ch-ua-mobile': '?0',\n",
    "  'sec-ch-ua-platform': '\"Windows\"'\n",
    "}\n",
    "\n",
    "response = requests.request(\"POST\", url, headers=headers, data=payload)\n",
    "\n",
    "records = response.json()['records']\n"
   ]
  },
  {
   "cell_type": "code",
   "execution_count": 2,
   "metadata": {},
   "outputs": [],
   "source": [
    "def get_xml(articleNumber):\n",
    "\n",
    "    url = f\"https://ieeexplore.ieee.org/rest/document/{articleNumber}/?logAccess=true\"\n",
    "\n",
    "    payload = {}\n",
    "    headers = {\n",
    "        'Accept': 'application/json, text/plain, */*',\n",
    "        'Accept-Language': 'en-US,en;q=0.9',\n",
    "        'Connection': 'keep-alive',\n",
    "        'Cookie': 'datadome=L2-8W0N~960fKVel8kqJGPt~5hSSzxsWyTVh1P8vYTSWmPfU_oKrxvbnOrN6kxosErk6-qcpJ9YIHtdAmEgqGKMTYA3h~4DIUJUQ.vob0YLbGshKH8oVXRSXETu9OHt; fp=48b0535dfceb7cf7e940c93a38c7c35a; s_ecid=MCMID%7C07628172801079746764422877597706489420; _ga=GA1.1.2118521513.1670529056; _ga_YTTLX34YFF=GS1.1.1670529055.1.0.1670529057.0.0.0; _ga_SVYSL9TN3N=GS1.1.1670529056.1.0.1670529057.0.0.0; cookieconsent_status=dismiss; _gcl_au=1.1.1305355348.1670637844; nmstat=e283c1d5-1d60-6217-57d0-ec160437d779; _ga_DRSMCND71P=GS1.1.1670637844.1.1.1670640642.59.0.0; _ga_RN78LDXHRB=GS1.1.1670637844.1.1.1670640642.59.0.0; _ga_W7T9YQJQXP=GS1.1.1670637844.1.1.1670640642.0.0.0; _ga_H0YHKP362D=GS1.1.1670637844.1.1.1670640642.59.0.0; _ga_5Q6NV07QD5=GS1.1.1670810470.1.1.1670810983.0.0.0; WLSESSION=237134476.20480.0000; JSESSIONID=LAIUyDomyrvCudmezNqktGH5WV3ssZ5IM_vZeawTak_5V2_vzFVH!380715771; ipCheck=202.131.142.179; AMCVS_8E929CC25A1FB2B30A495C97%40AdobeOrg=1; AMCV_8E929CC25A1FB2B30A495C97%40AdobeOrg=1687686476%7CMCIDTS%7C19265%7CMCMID%7C07628172801079746764422877597706489420%7CMCAID%7CNONE%7CMCOPTOUT-1671078345s%7CNONE%7CvVersion%7C3.0.0; s_cc=true; TS01b03060=012f35062303a95816a7cdfb5f5518ba1dcfb104afcad31458403ac613be586571a6fb515e935418fa05fffffa154aac3fe3f4a5b1; utag_main=v_id:01838ac327d7001de75f3941296c05081002c07900978$_n:8$_e:27$_s:0$_t:1671073574152$vapi_domain:ieee.org$ses_id:1671079545716%3Bexp-session$_n:14%3Bexp-session; s_sq=ieeexplore.prod%3D%2526c.%2526a.%2526activitymap.%2526page%253DXplore%252520Journals%252520%252526%252520Magazines%252520Toc%2526link%253DOrganizational%252520Resource%252520Allocation%252520by%252520Mobile%252520Edge%252520Computing%252520in%252520the%252520Context%252520of%252520the%252520Internet%252520of%252520Things%2526region%253DpublicationIssueMainContent%252520global-margin-px%2526pageIDType%253D1%2526.activitymap%2526.a%2526.c%2526pid%253DXplore%252520Journals%252520%252526%252520Magazines%252520Toc%2526pidt%253D1%2526oid%253Dhttps%25253A%25252F%25252Fieeexplore.ieee.org%25252Fdocument%25252F9978623%25252F%2526ot%253DA; TSaeeec342027=080f8ceb8aab20008f88f2b8f1ce60f270e55b3a5ed13e69017503f99600b4ecf124fcb8b63f9a9508131b43681130009f2fddd4d24d82ccc88e30f2f149c1f058f8850adb66f2a0c311fd9160994a7dc949280299d6ae6e14ed10a5189b060c; JSESSIONID=lQgVP4NHxLTnNW9b3jHdQ7Y0VFCFEmSBzj5cSbGBTxHLS0TLMT6I!-485776902; TS01b03060=012f3506236d103c3d30ab18a340723a78674a5d621880e53a966cdc9f3b7d90785f6b11dfcd9c63e79133381deca0a4c7bd8fb86c; TSaeeec342027=080f8ceb8aab20007619215e082567bf5cd323628f4c4d9796aa418d05767c09c452f8f6d97d8368083170af53113000d4002e58940e981ecd354c68896c1b32bffb8572d33ca513f88ce7d28a334c2a65c18312c1cc3271a19804339fe1224e; WLSESSION=237134476.20480.0000; ipCheck=54.86.50.139',\n",
    "        'DNT': '1',\n",
    "        'Referer': f'https://ieeexplore.ieee.org/document/{articleNumber}',\n",
    "        'Sec-Fetch-Dest': 'empty',\n",
    "        'Sec-Fetch-Mode': 'cors',\n",
    "        'Sec-Fetch-Site': 'same-origin',\n",
    "        'User-Agent': 'Mozilla/5.0 (Windows NT 10.0; Win64; x64) AppleWebKit/537.36 (KHTML, like Gecko) Chrome/108.0.0.0 Safari/537.36 Edg/108.0.1462.46',\n",
    "        'sec-ch-ua': '\"Not?A_Brand\";v=\"8\", \"Chromium\";v=\"108\", \"Microsoft Edge\";v=\"108\"',\n",
    "        'sec-ch-ua-mobile': '?0',\n",
    "        'sec-ch-ua-platform': '\"Windows\"'\n",
    "    }\n",
    "\n",
    "    response = requests.request(\"GET\", url, headers=headers, data=payload)\n",
    "\n",
    "    return response"
   ]
  },
  {
   "cell_type": "code",
   "execution_count": 7,
   "metadata": {},
   "outputs": [],
   "source": [
    "for index in range(int(_page_size)):\n",
    "    paper = dict()\n",
    "    paper['abstract'] = records[index].get(\"abstract\")\n",
    "    paper['articleNumber'] = records[index].get(\"articleNumber\")\n",
    "    paper['articleTitle'] = records[index].get(\"articleTitle\")\n",
    "    paper['authors'] = records[index].get(\"authors\")\n",
    "    paper['doi'] = records[index].get(\"doi\")\n",
    "    paper['publicationTitle'] = records[index].get(\"publicationTitle\")\n",
    "    paper['publicationYear'] = records[index].get(\"publicationYear\")\n",
    "    paper['publicationVolume'] = records[index].get(\"publicationVolume\")\n",
    "    paper['publicationIssue'] = records[index].get(\"publicationIssue\")\n",
    "    paper['volume'] = records[index].get(\"volume\")\n",
    "    paper['issue'] = records[index].get(\"issue\")\n",
    "    paper['documentLink'] = records[index].get(\"documentLink\")\n",
    "    resp = get_xml(paper['articleNumber'])\n",
    "    if resp.status_code == 200:\n",
    "        paper['xml'] = resp.text\n",
    "        with open(f'./data/{paper[\"publicationYear\"]}/{paper[\"articleNumber\"]}.json', 'w') as f:\n",
    "            f.write(json.dumps(paper, indent=4))\n"
   ]
  },
  {
   "cell_type": "code",
   "execution_count": null,
   "metadata": {},
   "outputs": [],
   "source": []
  }
 ],
 "metadata": {
  "kernelspec": {
   "display_name": "env",
   "language": "python",
   "name": "python3"
  },
  "language_info": {
   "codemirror_mode": {
    "name": "ipython",
    "version": 3
   },
   "file_extension": ".py",
   "mimetype": "text/x-python",
   "name": "python",
   "nbconvert_exporter": "python",
   "pygments_lexer": "ipython3",
   "version": "3.9.12"
  },
  "orig_nbformat": 4,
  "vscode": {
   "interpreter": {
    "hash": "d05fe5a9b52e0a19286d301e2b07df5436c5b9d0360702f27014400d2721d1d7"
   }
  }
 },
 "nbformat": 4,
 "nbformat_minor": 2
}
